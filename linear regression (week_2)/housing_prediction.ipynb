{
 "cells": [
  {
   "cell_type": "code",
   "execution_count": 1,
   "metadata": {},
   "outputs": [],
   "source": [
    "import pandas as pd\n",
    "import numpy as np\n",
    "import seaborn as sns\n",
    "from matplotlib import pyplot as plt\n",
    "%matplotlib inline"
   ]
  },
  {
   "cell_type": "code",
   "execution_count": 2,
   "metadata": {},
   "outputs": [],
   "source": [
    "#!wget https://raw.githubusercontent.com/alexeygrigorev/datasets/master/housing.csv"
   ]
  },
  {
   "cell_type": "markdown",
   "metadata": {},
   "source": [
    "# Load the data."
   ]
  },
  {
   "cell_type": "code",
   "execution_count": 3,
   "metadata": {},
   "outputs": [],
   "source": [
    "df = pd.read_csv('housing.csv')"
   ]
  },
  {
   "cell_type": "code",
   "execution_count": 4,
   "metadata": {},
   "outputs": [
    {
     "data": {
      "text/html": [
       "<div>\n",
       "<style scoped>\n",
       "    .dataframe tbody tr th:only-of-type {\n",
       "        vertical-align: middle;\n",
       "    }\n",
       "\n",
       "    .dataframe tbody tr th {\n",
       "        vertical-align: top;\n",
       "    }\n",
       "\n",
       "    .dataframe thead th {\n",
       "        text-align: right;\n",
       "    }\n",
       "</style>\n",
       "<table border=\"1\" class=\"dataframe\">\n",
       "  <thead>\n",
       "    <tr style=\"text-align: right;\">\n",
       "      <th></th>\n",
       "      <th>longitude</th>\n",
       "      <th>latitude</th>\n",
       "      <th>housing_median_age</th>\n",
       "      <th>total_rooms</th>\n",
       "      <th>total_bedrooms</th>\n",
       "      <th>population</th>\n",
       "      <th>households</th>\n",
       "      <th>median_income</th>\n",
       "      <th>median_house_value</th>\n",
       "      <th>ocean_proximity</th>\n",
       "    </tr>\n",
       "  </thead>\n",
       "  <tbody>\n",
       "    <tr>\n",
       "      <th>0</th>\n",
       "      <td>-122.23</td>\n",
       "      <td>37.88</td>\n",
       "      <td>41.0</td>\n",
       "      <td>880.0</td>\n",
       "      <td>129.0</td>\n",
       "      <td>322.0</td>\n",
       "      <td>126.0</td>\n",
       "      <td>8.3252</td>\n",
       "      <td>452600.0</td>\n",
       "      <td>NEAR BAY</td>\n",
       "    </tr>\n",
       "    <tr>\n",
       "      <th>1</th>\n",
       "      <td>-122.22</td>\n",
       "      <td>37.86</td>\n",
       "      <td>21.0</td>\n",
       "      <td>7099.0</td>\n",
       "      <td>1106.0</td>\n",
       "      <td>2401.0</td>\n",
       "      <td>1138.0</td>\n",
       "      <td>8.3014</td>\n",
       "      <td>358500.0</td>\n",
       "      <td>NEAR BAY</td>\n",
       "    </tr>\n",
       "    <tr>\n",
       "      <th>2</th>\n",
       "      <td>-122.24</td>\n",
       "      <td>37.85</td>\n",
       "      <td>52.0</td>\n",
       "      <td>1467.0</td>\n",
       "      <td>190.0</td>\n",
       "      <td>496.0</td>\n",
       "      <td>177.0</td>\n",
       "      <td>7.2574</td>\n",
       "      <td>352100.0</td>\n",
       "      <td>NEAR BAY</td>\n",
       "    </tr>\n",
       "    <tr>\n",
       "      <th>3</th>\n",
       "      <td>-122.25</td>\n",
       "      <td>37.85</td>\n",
       "      <td>52.0</td>\n",
       "      <td>1274.0</td>\n",
       "      <td>235.0</td>\n",
       "      <td>558.0</td>\n",
       "      <td>219.0</td>\n",
       "      <td>5.6431</td>\n",
       "      <td>341300.0</td>\n",
       "      <td>NEAR BAY</td>\n",
       "    </tr>\n",
       "    <tr>\n",
       "      <th>4</th>\n",
       "      <td>-122.25</td>\n",
       "      <td>37.85</td>\n",
       "      <td>52.0</td>\n",
       "      <td>1627.0</td>\n",
       "      <td>280.0</td>\n",
       "      <td>565.0</td>\n",
       "      <td>259.0</td>\n",
       "      <td>3.8462</td>\n",
       "      <td>342200.0</td>\n",
       "      <td>NEAR BAY</td>\n",
       "    </tr>\n",
       "  </tbody>\n",
       "</table>\n",
       "</div>"
      ],
      "text/plain": [
       "   longitude  latitude  housing_median_age  total_rooms  total_bedrooms  \\\n",
       "0    -122.23     37.88                41.0        880.0           129.0   \n",
       "1    -122.22     37.86                21.0       7099.0          1106.0   \n",
       "2    -122.24     37.85                52.0       1467.0           190.0   \n",
       "3    -122.25     37.85                52.0       1274.0           235.0   \n",
       "4    -122.25     37.85                52.0       1627.0           280.0   \n",
       "\n",
       "   population  households  median_income  median_house_value ocean_proximity  \n",
       "0       322.0       126.0         8.3252            452600.0        NEAR BAY  \n",
       "1      2401.0      1138.0         8.3014            358500.0        NEAR BAY  \n",
       "2       496.0       177.0         7.2574            352100.0        NEAR BAY  \n",
       "3       558.0       219.0         5.6431            341300.0        NEAR BAY  \n",
       "4       565.0       259.0         3.8462            342200.0        NEAR BAY  "
      ]
     },
     "execution_count": 4,
     "metadata": {},
     "output_type": "execute_result"
    }
   ],
   "source": [
    "df.head()"
   ]
  },
  {
   "cell_type": "markdown",
   "metadata": {},
   "source": [
    "# Look at the median_house_value variable. Does it have a long tail?"
   ]
  },
  {
   "cell_type": "code",
   "execution_count": 5,
   "metadata": {},
   "outputs": [
    {
     "data": {
      "image/png": "[encoded data removed]",
      "text/plain": [
       "<Figure size 432x288 with 1 Axes>"
      ]
     },
     "metadata": {
      "needs_background": "light"
     },
     "output_type": "display_data"
    }
   ],
   "source": [
    "#plot the histogram of the median price\n",
    "plt.figure(figsize=(6, 4))\n",
    "\n",
    "sns.histplot(df.median_income, bins=40, color='black', alpha=1)\n",
    "plt.ylabel('Frequency')\n",
    "plt.xlabel('median_income')\n",
    "plt.title('median income histogram')\n",
    "\n",
    "plt.show()"
   ]
  },
  {
   "cell_type": "markdown",
   "metadata": {},
   "source": [
    "# selecting columns needed for the excercise"
   ]
  },
  {
   "cell_type": "code",
   "execution_count": 6,
   "metadata": {},
   "outputs": [],
   "source": [
    "headers = ['latitude','longitude','housing_median_age','total_rooms','total_bedrooms','population','households',\n",
    "    'median_income','median_house_value']"
   ]
  },
  {
   "cell_type": "code",
   "execution_count": 7,
   "metadata": {},
   "outputs": [],
   "source": [
    "df = df[headers]"
   ]
  },
  {
   "cell_type": "markdown",
   "metadata": {},
   "source": [
    "# Question 1\n",
    "Find a feature with missing values. How many missing values does it have?"
   ]
  },
  {
   "cell_type": "code",
   "execution_count": 8,
   "metadata": {},
   "outputs": [
    {
     "data": {
      "text/plain": [
       "latitude                0\n",
       "longitude               0\n",
       "housing_median_age      0\n",
       "total_rooms             0\n",
       "total_bedrooms        207\n",
       "population              0\n",
       "households              0\n",
       "median_income           0\n",
       "median_house_value      0\n",
       "dtype: int64"
      ]
     },
     "execution_count": 8,
     "metadata": {},
     "output_type": "execute_result"
    }
   ],
   "source": [
    "#checking columns with missing values \n",
    "df.isnull().sum()"
   ]
  },
  {
   "cell_type": "markdown",
   "metadata": {},
   "source": [
    "#### only total_bedroom has 207 missing values "
   ]
  },
  {
   "cell_type": "markdown",
   "metadata": {},
   "source": [
    "# Question 2\n",
    "What's the median (50% percentile) for variable 'population'?"
   ]
  },
  {
   "cell_type": "code",
   "execution_count": 9,
   "metadata": {},
   "outputs": [
    {
     "data": {
      "text/plain": [
       "count    20640.000000\n",
       "mean      1425.476744\n",
       "std       1132.462122\n",
       "min          3.000000\n",
       "25%        787.000000\n",
       "50%       1166.000000\n",
       "75%       1725.000000\n",
       "max      35682.000000\n",
       "Name: population, dtype: float64"
      ]
     },
     "execution_count": 9,
     "metadata": {},
     "output_type": "execute_result"
    }
   ],
   "source": [
    "df.population.describe()"
   ]
  },
  {
   "cell_type": "markdown",
   "metadata": {},
   "source": [
    "#### 50% percentile 1166.000000"
   ]
  },
  {
   "cell_type": "markdown",
   "metadata": {},
   "source": [
    "## b) Split the data"
   ]
  },
  {
   "cell_type": "code",
   "execution_count": 10,
   "metadata": {},
   "outputs": [],
   "source": [
    "#shuffle the dataset and use seed 42 to ensure shuffle is constant\n",
    "np.random.seed(42)"
   ]
  },
  {
   "cell_type": "markdown",
   "metadata": {},
   "source": [
    "## c) Split your data in train/val/test sets, with 60%/20%/20% distribution."
   ]
  },
  {
   "cell_type": "code",
   "execution_count": 11,
   "metadata": {},
   "outputs": [],
   "source": [
    "#we define a function to help us split the dataset\n",
    "\n",
    "def split_data(X):\n",
    "    #shuffle the dataset and use seed 42 to ensure shuffle is constant\n",
    "    np.random.seed(42)\n",
    "    #the length of the dataset\n",
    "    n = len(X)\n",
    "\n",
    "    #we use 60% for train 20% for test and 20% for validate\n",
    "    n_val = int(0.2 * n)\n",
    "    n_test = int(0.2 * n)\n",
    "    n_train = n - (n_val + n_test)\n",
    "\n",
    "    #genrate a set of numbers from 0 to n, where n is the length of the array\n",
    "    idx = np.arange(n)\n",
    "    #we shuffle the numbers\n",
    "    np.random.shuffle(idx)\n",
    "\n",
    "    #we use the shuffled numbers to rearrange the dataframe\n",
    "    X_shuffled = X.iloc[idx]\n",
    "\n",
    "    #we copy their data into their corresponding dataframe\n",
    "    X_train = X_shuffled.iloc[:n_train].copy()\n",
    "    X_val = X_shuffled.iloc[n_train:n_train+n_val].copy()\n",
    "    X_test = X_shuffled.iloc[n_train+n_val:].copy()\n",
    "    \n",
    "    return X_train,X_val,X_test "
   ]
  },
  {
   "cell_type": "code",
   "execution_count": 12,
   "metadata": {},
   "outputs": [],
   "source": [
    "#we calll the function to get the respective dataframe\n",
    "df_train,df_val,df_test = split_data(df[headers])"
   ]
  },
  {
   "cell_type": "markdown",
   "metadata": {},
   "source": [
    "#### Apply the log transformation to the median_house_value variable using the np.log1p() function."
   ]
  },
  {
   "cell_type": "code",
   "execution_count": 13,
   "metadata": {},
   "outputs": [],
   "source": [
    "#we get target values from the dataset\n",
    "y_train_orig = df_train.median_house_value.values\n",
    "y_val_orig = df_val.median_house_value.values\n",
    "y_test_orig = df_test.median_house_value.values\n",
    "\n",
    "#we convert the values to be predicted to log, to normalize it and reduce it\n",
    "y_train = np.log1p(df_train.median_house_value.values)\n",
    "y_val = np.log1p(df_val.median_house_value.values)\n",
    "y_test = np.log1p(df_test.median_house_value.values)\n",
    "\n",
    "del df_train['median_house_value']\n",
    "del df_val['median_house_value']\n",
    "del df_test['median_house_value']"
   ]
  },
  {
   "cell_type": "markdown",
   "metadata": {},
   "source": [
    "# Question 3\n",
    "\n",
    "    We need to deal with missing values for the column from Q1.\n",
    "    We have two options: fill it with 0 or with the mean of this variable.\n",
    "    Try both options. For each, train a linear regression model without regularization using the code from the lessons.\n",
    "    For computing the mean, use the training only!\n",
    "    Use the validation dataset to evaluate the models and compare the RMSE of each option.\n",
    "    Round the RMSE scores to 2 decimal digits using round(score, 2)\n",
    "    Which option gives better RMSE?\n"
   ]
  },
  {
   "cell_type": "code",
   "execution_count": 14,
   "metadata": {},
   "outputs": [
    {
     "data": {
      "text/plain": [
       "207"
      ]
     },
     "execution_count": 14,
     "metadata": {},
     "output_type": "execute_result"
    }
   ],
   "source": [
    "#check the sum of null values\n",
    "df_train.total_bedrooms.isnull().sum()"
   ]
  },
  {
   "cell_type": "code",
   "execution_count": 15,
   "metadata": {},
   "outputs": [],
   "source": [
    "#we define linear regression algorithm\n",
    "def train_linear_regression(X, y):\n",
    "    #creates an array of ones \n",
    "    ones = np.ones(X.shape[0])\n",
    "    #adds 1s to the matrix X, these ones are baseline, eg. how much it should cost when we dont know any feature\n",
    "    X = np.column_stack([ones, X])\n",
    "\n",
    "    XTX = X.T.dot(X)\n",
    "    XTX_inv = np.linalg.inv(XTX)\n",
    "    w = XTX_inv.dot(X.T).dot(y)\n",
    "    \n",
    "    #w[0] is the base weight, w[1:] curresponding array of weights for the rest\n",
    "    return w[0], w[1:]"
   ]
  },
  {
   "cell_type": "code",
   "execution_count": 16,
   "metadata": {},
   "outputs": [],
   "source": [
    "base = ['latitude','longitude','housing_median_age','total_rooms','total_bedrooms','population','households',\n",
    "    'median_income']"
   ]
  },
  {
   "cell_type": "code",
   "execution_count": 17,
   "metadata": {},
   "outputs": [],
   "source": [
    "#base = ['total_bedrooms']"
   ]
  },
  {
   "cell_type": "code",
   "execution_count": 18,
   "metadata": {},
   "outputs": [],
   "source": [
    "#we define a function that \n",
    "def prepare_X(df):\n",
    "    #select all the columns in base \n",
    "    df_num = df[base]\n",
    "    \n",
    "    #fill the empty rows with 0  \n",
    "     #-> df_num = df_num.fillna(0).isnull.sum() to verify\n",
    "    #used k to check the diffrence between using 0 and bedroom mean\n",
    "    #k = (df['total_bedrooms']).mean()\n",
    "    k = 0\n",
    "    df_num['total_bedrooms'] = df_num.total_bedrooms.fillna(k)\n",
    "    #store all the values\n",
    "    X = df_num.values\n",
    "    return X"
   ]
  },
  {
   "cell_type": "code",
   "execution_count": 19,
   "metadata": {},
   "outputs": [],
   "source": [
    "#we prepare the training data\n",
    "X_train = prepare_X(df_train)\n",
    "#we get the base weight and weight\n",
    "w_0, w = train_linear_regression(X_train, y_train)\n"
   ]
  },
  {
   "cell_type": "code",
   "execution_count": 20,
   "metadata": {},
   "outputs": [
    {
     "data": {
      "text/plain": [
       "array([11.28055213, 11.90427911, 12.46507934, ..., 11.53259294,\n",
       "       11.92377088, 12.54517195])"
      ]
     },
     "execution_count": 20,
     "metadata": {},
     "output_type": "execute_result"
    }
   ],
   "source": [
    "#we predict y_pred using the base weight\n",
    "y_pred = w_0 + X_train.dot(w)\n",
    "y_pred"
   ]
  },
  {
   "cell_type": "code",
   "execution_count": 21,
   "metadata": {},
   "outputs": [],
   "source": [
    "# we calculate the rmse of both\n",
    "def rmse(y, y_pred):\n",
    "    error = y_pred - y\n",
    "    mse = (error ** 2).mean()\n",
    "    score = np.sqrt(mse) \n",
    "    return round(score, 2)\n",
    "    #return score"
   ]
  },
  {
   "cell_type": "code",
   "execution_count": 22,
   "metadata": {},
   "outputs": [
    {
     "data": {
      "text/plain": [
       "0.34"
      ]
     },
     "execution_count": 22,
     "metadata": {},
     "output_type": "execute_result"
    }
   ],
   "source": [
    "rmse(y_train, y_pred)"
   ]
  },
  {
   "cell_type": "code",
   "execution_count": 23,
   "metadata": {},
   "outputs": [
    {
     "data": {
      "image/png": "[encoded data removed]",
      "text/plain": [
       "<Figure size 432x288 with 1 Axes>"
      ]
     },
     "metadata": {
      "needs_background": "light"
     },
     "output_type": "display_data"
    }
   ],
   "source": [
    "plt.figure(figsize=(6, 4))\n",
    "\n",
    "\n",
    "sns.histplot(y_train, label='target', color='#222222', alpha=0.6, bins=40)\n",
    "sns.histplot(y_pred, label='prediction', color='#aaaaaa', alpha=0.8, bins=40)\n",
    "\n",
    "plt.legend()\n",
    "\n",
    "plt.ylabel('Frequency')\n",
    "plt.xlabel('Log(Price + 1)')\n",
    "plt.title('Predictions vs actual distribution')\n",
    "\n",
    "plt.show()"
   ]
  },
  {
   "cell_type": "markdown",
   "metadata": {},
   "source": [
    "# Question 4\n",
    "\n",
    "    Now let's train a regularized linear regression.\n",
    "    For this question, fill the NAs with 0.\n",
    "    Try different values of r from this list: [0, 0.000001, 0.0001, 0.001, 0.01, 0.1, 1, 5, 10].\n",
    "    Use RMSE to evaluate the model on the validation dataset.\n",
    "    Round the RMSE scores to 2 decimal digits.\n",
    "    Which r gives the best RMSE?\n"
   ]
  },
  {
   "cell_type": "code",
   "execution_count": 24,
   "metadata": {},
   "outputs": [],
   "source": [
    "#regularization means controlling the weights so they dont grow too much\n",
    "def train_linear_regression_reg(X, y, r=0.0):\n",
    "    ones = np.ones(X.shape[0])\n",
    "    X = np.column_stack([ones, X])\n",
    "    \n",
    "    XTX = X.T.dot(X)\n",
    "    \n",
    "    #multiplies the diagonal by 0.0, this is done to control duplicate columns\n",
    "    #because inverse of duplicate columns cannot be found\n",
    "    #an array is created called reg this process is called regularization\n",
    "    reg = r * np.eye(XTX.shape[0])\n",
    "    \n",
    "    #we add the arrays\n",
    "    XTX = XTX + reg\n",
    "\n",
    "    XTX_inv = np.linalg.inv(XTX)\n",
    "    w = XTX_inv.dot(X.T).dot(y)\n",
    "    \n",
    "    return w[0], w[1:]"
   ]
  },
  {
   "cell_type": "code",
   "execution_count": 25,
   "metadata": {},
   "outputs": [
    {
     "name": "stdout",
     "output_type": "stream",
     "text": [
      "the r is 0, the rmse is 0.34\n",
      "the r is 1e-06, the rmse is 0.34\n",
      "the r is 0.0001, the rmse is 0.34\n",
      "the r is 0.001, the rmse is 0.34\n",
      "the r is 0.01, the rmse is 0.34\n",
      "the r is 0.1, the rmse is 0.34\n",
      "the r is 1, the rmse is 0.35\n",
      "the r is 5, the rmse is 0.35\n",
      "the r is 10, the rmse is 0.35\n"
     ]
    }
   ],
   "source": [
    "\n",
    "for r in [0, 0.000001, 0.0001, 0.001, 0.01, 0.1, 1, 5, 10]:\n",
    "    w_0, w = train_linear_regression_reg(X_train, y_train, r=r)\n",
    "    y_pred = w_0 + X_train.dot(w)\n",
    "    x = rmse(y_train, y_pred)\n",
    "    print (f\"the r is {r}, the rmse is {x}\")"
   ]
  },
  {
   "cell_type": "markdown",
   "metadata": {},
   "source": [
    "### smallest r is 0"
   ]
  },
  {
   "cell_type": "markdown",
   "metadata": {},
   "source": [
    "# Question 5\n",
    "\n",
    "    We used seed 42 for splitting the data. Let's find out how selecting the seed influences our score.\n",
    "    Try different seed values: [0, 1, 2, 3, 4, 5, 6, 7, 8, 9].\n",
    "    For each seed, do the train/validation/test split with 60%/20%/20% distribution.\n",
    "    Fill the missing values with 0 and train a model without regularization.\n",
    "    For each seed, evaluate the model on the validation dataset and collect the RMSE scores.\n",
    "    What's the standard deviation of all the scores? To compute the standard deviation, use np.std.\n",
    "    Round the result to 3 decimal digits (round(std, 3))\n"
   ]
  },
  {
   "cell_type": "code",
   "execution_count": 26,
   "metadata": {},
   "outputs": [],
   "source": [
    "#we define a function to help us split the dataset\n",
    "\n",
    "def split_dt(X):\n",
    "    #shuffle the dataset and use seed 42 to ensure shuffle is constant\n",
    "\n",
    "    #the length of the dataset\n",
    "    n = len(X)\n",
    "\n",
    "    #we use 60% for train 20% for test and 20% for validate\n",
    "    n_val = int(0.2 * n)\n",
    "    n_test = int(0.2 * n)\n",
    "    n_train = n - (n_val + n_test)\n",
    "\n",
    "    #genrate a set of numbers from 0 to n, where n is the length of the array\n",
    "    idx = np.arange(n)\n",
    "    #we shuffle the numbers\n",
    "    np.random.shuffle(idx)\n",
    "\n",
    "    #we use the shuffled numbers to rearrange the dataframe\n",
    "    X_shuffled = X.iloc[idx]\n",
    "\n",
    "    #we copy their data into their corresponding dataframe\n",
    "    X_train = X_shuffled.iloc[:n_train].copy()\n",
    "    X_val = X_shuffled.iloc[n_train:n_train+n_val].copy()\n",
    "    X_test = X_shuffled.iloc[n_train+n_val:].copy()\n",
    "    \n",
    "    return X_train,X_val,X_test "
   ]
  },
  {
   "cell_type": "code",
   "execution_count": 27,
   "metadata": {},
   "outputs": [],
   "source": [
    "df_train,df_val,df_test = split_data(df[headers])"
   ]
  },
  {
   "cell_type": "code",
   "execution_count": 28,
   "metadata": {},
   "outputs": [],
   "source": [
    "def get_target(df_train,df_val,df_test):\n",
    "    #we get target values from the dataset\n",
    "    y_train_orig = df_train.median_house_value.values\n",
    "    y_val_orig = df_val.median_house_value.values\n",
    "    y_test_orig = df_test.median_house_value.values\n",
    "\n",
    "    #we convert the values to be predicted to log, to normalize it and reduce it\n",
    "    y_train = np.log1p(df_train.median_house_value.values)\n",
    "    y_val = np.log1p(df_val.median_house_value.values)\n",
    "    y_test = np.log1p(df_test.median_house_value.values)\n",
    "\n",
    "    del df_train['median_house_value']\n",
    "    del df_val['median_house_value']\n",
    "    del df_test['median_house_value']\n",
    "    \n",
    "    return y_train,y_val,y_test"
   ]
  },
  {
   "cell_type": "code",
   "execution_count": 46,
   "metadata": {},
   "outputs": [],
   "source": [
    "seed_value = [0, 1, 2, 3, 4, 5, 6, 7, 8, 9]\n",
    "stand_err = []\n",
    "def seed_trys(df):\n",
    "    for i in seed_value:\n",
    "        np.random.seed(i)    \n",
    "        df_train,df_val,df_test = split_dt(df)\n",
    "        y_train,y_val,y_test = get_target(df_train,df_val,df_test)\n",
    "        X_train = prepare_X(df_train)\n",
    "        w_0, w = train_linear_regression(X_train, y_train)\n",
    "        X_val = prepare_X(df_val)\n",
    "        y_pred = w_0 + X_val.dot(w)\n",
    "        error = rmse(y_val, y_pred)\n",
    "        #print(f\"the seed is {i} and the RMSE is {error}\")\n",
    "        stand_err.append(error)\n",
    "        x = df_train.total_bedrooms.isnull().sum()\n",
    "        print(f\"the seed is {i} and the RMSE is {error} and {x}\")\n",
    "    return stand_err"
   ]
  },
  {
   "cell_type": "code",
   "execution_count": 47,
   "metadata": {},
   "outputs": [
    {
     "name": "stdout",
     "output_type": "stream",
     "text": [
      "the seed is 0 and the RMSE is 0.34 and 128\n",
      "the seed is 1 and the RMSE is 0.34 and 124\n",
      "the seed is 2 and the RMSE is 0.33 and 122\n",
      "the seed is 3 and the RMSE is 0.34 and 123\n",
      "the seed is 4 and the RMSE is 0.34 and 140\n",
      "the seed is 5 and the RMSE is 0.34 and 129\n",
      "the seed is 6 and the RMSE is 0.35 and 121\n",
      "the seed is 7 and the RMSE is 0.34 and 125\n",
      "the seed is 8 and the RMSE is 0.35 and 130\n",
      "the seed is 9 and the RMSE is 0.34 and 120\n"
     ]
    }
   ],
   "source": [
    "ans = seed_trys(df[headers])"
   ]
  },
  {
   "cell_type": "code",
   "execution_count": 48,
   "metadata": {},
   "outputs": [
    {
     "data": {
      "text/plain": [
       "[0.34, 0.34, 0.33, 0.34, 0.34, 0.34, 0.35, 0.34, 0.35, 0.34]"
      ]
     },
     "execution_count": 48,
     "metadata": {},
     "output_type": "execute_result"
    }
   ],
   "source": [
    "ans"
   ]
  },
  {
   "cell_type": "code",
   "execution_count": 49,
   "metadata": {},
   "outputs": [],
   "source": [
    "answer = round(np.std(ans),3)"
   ]
  },
  {
   "cell_type": "code",
   "execution_count": 50,
   "metadata": {},
   "outputs": [
    {
     "data": {
      "text/plain": [
       "0.005"
      ]
     },
     "execution_count": 50,
     "metadata": {},
     "output_type": "execute_result"
    }
   ],
   "source": [
    "answer"
   ]
  },
  {
   "cell_type": "markdown",
   "metadata": {},
   "source": [
    "# Question 6\n",
    "\n",
    "    Split the dataset like previously, use seed 9.\n",
    "    Combine train and validation datasets.\n",
    "    Fill the missing values with 0 and train a model with r=0.001.\n",
    "    What's the RMSE on the test dataset?\n"
   ]
  },
  {
   "cell_type": "code",
   "execution_count": 120,
   "metadata": {},
   "outputs": [],
   "source": [
    "seed_value = [9]\n",
    "def seed_test(df):\n",
    "    for i in seed_value:\n",
    "        np.random.seed(i)    \n",
    "        df_train,df_val,df_test = split_dt(df)\n",
    "        #concat df_train and df_val\n",
    "        df_train = pd.concat([df_train,df_val])\n",
    "        #fill missing values with zero\n",
    "        df_train = df_train.fillna(0)\n",
    "        X_train = prepare_X(df_train)\n",
    "        \n",
    "        y_train,y_val,y_test = get_target(df_train,df_val,df_test)\n",
    "           \n",
    "        w_0, w = train_linear_regression_reg(X_train, y_train,r =0.001)\n",
    "        X_test = prepare_X(df_test)\n",
    "        y_pred = w_0 + X_test.dot(w)\n",
    "        #check error between predicted test and real test\n",
    "        error = rmse(y_test, y_pred)\n",
    "\n",
    "        x = df_train.total_bedrooms.isnull().sum()\n",
    "        print(f\"the seed is {i} and the RMSE is {error}\")\n",
    "    return "
   ]
  },
  {
   "cell_type": "code",
   "execution_count": 122,
   "metadata": {
    "collapsed": true
   },
   "outputs": [
    {
     "name": "stdout",
     "output_type": "stream",
     "text": [
      "the seed is 9 and the RMSE is 0.35\n"
     ]
    },
    {
     "name": "stderr",
     "output_type": "stream",
     "text": [
      "<ipython-input-18-3e72ccbf8e4b>:11: SettingWithCopyWarning: \n",
      "A value is trying to be set on a copy of a slice from a DataFrame.\n",
      "Try using .loc[row_indexer,col_indexer] = value instead\n",
      "\n",
      "See the caveats in the documentation: https://pandas.pydata.org/pandas-docs/stable/user_guide/indexing.html#returning-a-view-versus-a-copy\n",
      "  df_num['total_bedrooms'] = df_num.total_bedrooms.fillna(k)\n"
     ]
    }
   ],
   "source": [
    "seed_test(df[headers])"
   ]
  },
  {
   "cell_type": "code",
   "execution_count": null,
   "metadata": {},
   "outputs": [],
   "source": []
  },
  {
   "cell_type": "code",
   "execution_count": null,
   "metadata": {},
   "outputs": [],
   "source": []
  }
 ],
 "metadata": {
  "kernelspec": {
   "display_name": "Python 3",
   "language": "python",
   "name": "python3"
  },
  "language_info": {
   "codemirror_mode": {
    "name": "ipython",
    "version": 3
   },
   "file_extension": ".py",
   "mimetype": "text/x-python",
   "name": "python",
   "nbconvert_exporter": "python",
   "pygments_lexer": "ipython3",
   "version": "3.8.10"
  }
 },
 "nbformat": 4,
 "nbformat_minor": 4
}
